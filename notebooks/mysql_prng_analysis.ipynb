{
 "cells": [
  {
   "cell_type": "markdown",
   "metadata": {},
   "source": [
    "# MySQL PRNG Analysis\n",
    "\n",
    "While analyzing MySQL's PRNG, I discovered some interesting analysis techniques.\n",
    "The goals are to:\n",
    "1. Solve the internal state given only outputs\n",
    "2. Run the PRNG in reverse to determine past outputs.\n",
    "\n",
    "Here's the code for MySQL's PRNG:\n",
    "\n",
    "https://github.com/mysql/mysql-server/blob/3e90d07c3578e4da39dc1bce73559bbdf655c28c/sql/auth/password.cc#L81\n",
    "```c++\n",
    "void randominit(struct rand_struct *rand_st, ulong seed1,\n",
    "                ulong seed2) { /* For mysql 3.21.# */\n",
    "  rand_st->max_value = 0x3FFFFFFFL;\n",
    "  rand_st->max_value_dbl = (double)rand_st->max_value;\n",
    "  rand_st->seed1 = seed1 % rand_st->max_value;\n",
    "  rand_st->seed2 = seed2 % rand_st->max_value;\n",
    "}\n",
    "```\n",
    "\n",
    "https://github.com/mysql/mysql-server/blob/3e90d07c3578e4da39dc1bce73559bbdf655c28c/mysys/my_rnd.cc#L50\n",
    "```c++\n",
    "double my_rnd(struct rand_struct *rand_st) {\n",
    "  rand_st->seed1 = (rand_st->seed1 * 3 + rand_st->seed2) % rand_st->max_value;\n",
    "  rand_st->seed2 = (rand_st->seed1 + rand_st->seed2 + 33) % rand_st->max_value;\n",
    "  return (((double)rand_st->seed1) / rand_st->max_value_dbl);\n",
    "}\n",
    "```\n",
    "\n",
    "To simplify this, let's set change some variables and write this in Python. Here's the mapping:\n",
    "```\n",
    "a0 = rand_st->seed1\n",
    "b0 = rand_st->seed2\n",
    "m = rand_st->max_value = 0x3FFFFFFF\n",
    "```\n",
    "\n",
    "```python\n",
    "def my_rnd():\n",
    "  a1 = (a0 * 3 + b0) % m\n",
    "  b1 = (a1 + b0 + 33) % m\n",
    "  return a1\n",
    "```\n",
    "\n",
    "This looks like some sort of two-state LCG. Generally, LCGs are of the form `X2 = (X1 * c + d) (mod m)`, and we can trivially solve them algebraically. If you have state `X2` and want state `X1`, you just rearrange the equation to be `X1 = (X2 - d)/c (mod m)`. Here, division by `c` is done via taking its multiplicative inverse.\n",
    "\n",
    "However, MySQL's PRNG has a few interesting properties:\n",
    "1. The increment, `b`, also changes\n",
    "2. The multiplier, 3, is _not_ invertible over the modulus\n",
    "\n",
    "I don't know if the code authors wrote it wrong, but the way the modulus is being used is non-standard. Typically, you would `&` with the modulus if it's of the form 2^n-1 which makes it equivalent to `mod 2^n`. Their use of modulo means the modulus is 2^30-1 instead of 2^30. The modulus factors to `{3: 2, 7: 1, 11: 1, 31: 1, 151: 1, 331: 1}`. Since it's not coprime to 3, 3 cannot be inverted. Something you'll notice is that the constants 3 and 33 are both divisible by 3. If we track the sequences of congruence mod 3 for `a` and `b`, we can make some simple observations.\n",
    "\n",
    "```python\n",
    "def my_rnd():\n",
    "  a1 = (a0 * 3 + b0) % m  # a1 = b0 (mod 3)\n",
    "  b1 = (a1 + b0 + 33) % m # b1 = 2*b0 (mod 3)\n",
    "  return a1\n",
    "```\n",
    "\n",
    "Let's attempt to make a simple reverse function by rearranging the equations.\n",
    "\n",
    "```python\n",
    "def rev(a1, b1, m):\n",
    "    b0 = (b1 - a1 - 33) % m\n",
    "    a0 = ((a1 - b0)//3) % m # b0 = a1 (mod 3), so (a1 - b0) is divisible by 3\n",
    "    return a0, b0\n",
    "```"
   ]
  },
  {
   "cell_type": "code",
   "execution_count": 1,
   "metadata": {},
   "outputs": [
    {
     "name": "stdout",
     "output_type": "stream",
     "text": [
      "a0 1036040342\n",
      "b0 158423163\n",
      "It works! Well, so far...\n",
      "(1036040342, 158423163)\n",
      "Does it hold up for multiple inputs? False\n"
     ]
    }
   ],
   "source": [
    "from samson.all import *\n",
    "\n",
    "# Initialize variables\n",
    "m = 2**30-1\n",
    "a0 = 1036040342\n",
    "b0 = 158423163\n",
    "\n",
    "print(\"a0\", a0)\n",
    "print(\"b0\", b0)\n",
    "\n",
    "def my_rng(a, b, m):\n",
    "    a1 = (a*3 + b) % m\n",
    "    b1 = (a1 + b + 33) % m\n",
    "    return a1, b1\n",
    "\n",
    "def rev(a1, b1, m):\n",
    "    b0 = (b1 - a1 - 33) % m\n",
    "    a0 = ((a1 - b0)//3) % m\n",
    "    return a0, b0\n",
    "\n",
    "a1, b1 = my_rng(a0, b0, m)\n",
    "print('It works! Well, so far...')\n",
    "print(rev(a1, b1, m))\n",
    "\n",
    "def test_reverse(a0, b0, rev_func):\n",
    "    a1, b1 = a0, b0\n",
    "    outputs = []\n",
    "\n",
    "    for _ in range(10):\n",
    "        a1, b1 = my_rng(a1, b1, m)\n",
    "        outputs.append((a1, b1))\n",
    "\n",
    "    rev_out = [(a1, b1)]\n",
    "    for _ in range(9):\n",
    "        a1, b1 = rev_func(a1, b1, m)\n",
    "        rev_out.append((a1, b1))\n",
    "    \n",
    "    return outputs == rev_out[::-1]\n",
    "\n",
    "print('Does it hold up for multiple inputs?', test_reverse(a0, b0, rev))"
   ]
  },
  {
   "cell_type": "markdown",
   "metadata": {},
   "source": [
    "What's going on here? I thought the reverse function worked! The problem is that we found one of the possible previous states and not _the_ previous state. Check it out:"
   ]
  },
  {
   "cell_type": "code",
   "execution_count": 10,
   "metadata": {},
   "outputs": [
    {
     "name": "stdout",
     "output_type": "stream",
     "text": [
      "(45318720, 203741916)\n",
      "(45318720, 203741916)\n",
      "(45318720, 203741916)\n"
     ]
    }
   ],
   "source": [
    "print(my_rng(a0, b0, m))\n",
    "print(my_rng(320212460, b0, m))\n",
    "print(my_rng(678126401, b0, m))"
   ]
  },
  {
   "cell_type": "markdown",
   "metadata": {},
   "source": [
    "However, it's very important that we get the _right_ state. Even if we found a way to generate all three possible states, if the end user wanted the 10th output back, they'd have 3^10 (59049) possible outputs. Okay, so what if we could 1) generate all three possible previous states and then 2) figure out which one is correct? Let's do some more analysis.\n",
    "\n",
    "First, we need to find the root cause, which comes back to the inversion problem. When you can invert the multiplier, there's only one solution."
   ]
  },
  {
   "cell_type": "code",
   "execution_count": 8,
   "metadata": {},
   "outputs": [
    {
     "name": "stdout",
     "output_type": "stream",
     "text": [
      "45318720 203741916\n",
      "[558821754, 439517107, 320212460, 200907813, 81603166, 1036040342, 916735695, 797431048, 678126401]\n"
     ]
    }
   ],
   "source": [
    "a1, b1 = my_rng(a0, b0, m)\n",
    "print(a1, b1)\n",
    "z = (a1-b0)\n",
    "y = z // 3\n",
    "m9 = m // 9\n",
    "res = [r[0] for r in [crt([(i, 9), (y % m9, m9)]) for i in range(9)]]\n",
    "print(res)"
   ]
  }
 ],
 "metadata": {
  "interpreter": {
   "hash": "e864dcc6bd91e054a2753ea38103656bcead557ffb49d86eee618d1e6df8a5ce"
  },
  "kernelspec": {
   "display_name": "Python 3.8.12 ('pypyenv')",
   "language": "python",
   "name": "python3"
  },
  "language_info": {
   "codemirror_mode": {
    "name": "ipython",
    "version": 3
   },
   "file_extension": ".py",
   "mimetype": "text/x-python",
   "name": "python",
   "nbconvert_exporter": "python",
   "pygments_lexer": "ipython3",
   "version": "3.8.12"
  },
  "orig_nbformat": 4
 },
 "nbformat": 4,
 "nbformat_minor": 2
}
